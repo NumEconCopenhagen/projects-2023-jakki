{
 "cells": [
  {
   "attachments": {},
   "cell_type": "markdown",
   "metadata": {},
   "source": [
    "# Introduction to programming and numerical analysis - Summer examination 2023"
   ]
  },
  {
   "attachments": {},
   "cell_type": "markdown",
   "metadata": {},
   "source": [
    "This exam is made by:\n",
    "- Jacob Grenaa Vestergaard\n",
    "- Emil Henry Erbas\n",
    "- Jeppe Vanderhaegen"
   ]
  },
  {
   "attachments": {},
   "cell_type": "markdown",
   "metadata": {},
   "source": [
    "# Importing essentials"
   ]
  },
  {
   "cell_type": "code",
   "execution_count": 1,
   "metadata": {},
   "outputs": [],
   "source": [
    "# Importing autoreload\n",
    "%load_ext autoreload\n",
    "%autoreload 2\n",
    "\n",
    "# Importing essential packages\n",
    "from types import SimpleNamespace\n",
    "from scipy import optimize\n",
    "import numpy as np\n",
    "import matplotlib.pyplot as plt\n",
    "import math\n",
    "from scipy.optimize import minimize_scalar\n",
    "import tabulate\n",
    "from scipy.optimize import minimize\n",
    "\n",
    "# Importing classes\n",
    "from examproject import ClassQ1\n",
    "from examproject import GriewankOptimizer\n",
    "\n",
    "# Defining the models in this Notebook\n",
    "modelQ1 = ClassQ1()"
   ]
  },
  {
   "attachments": {},
   "cell_type": "markdown",
   "metadata": {},
   "source": [
    "# Problem 1"
   ]
  },
  {
   "attachments": {},
   "cell_type": "markdown",
   "metadata": {},
   "source": [
    "**Question 1.1**\n",
    "\n",
    "In the class \"ClassQ1\", we have included the code required to answer the question. The function maximize_utility() is utilized to maximize the utility and determine the optimal labor hours. By varying the values of G, we solve the utility maximization problem. Finally, we utilize np.isclose to compare our obtained solution with the analytical solution provided in the exam assignment.\n",
    "\n",
    "Using np.isclose allows us to verify whether the provided analytical solution effectively solves the maximization problem by ensuring that the values are in agreement."
   ]
  },
  {
   "cell_type": "code",
   "execution_count": 2,
   "metadata": {},
   "outputs": [
    {
     "name": "stdout",
     "output_type": "stream",
     "text": [
      "When G is equal to 1.0 , optimal L is 15.29938165\n",
      "In this scenario, the values obtained from the minmizer-solution and analytical-solution are approximately the same.\n",
      "\n",
      "When G is equal to 2.0 , optimal L is 15.29937604\n",
      "In this scenario, the values obtained from the minmizer-solution and analytical-solution are approximately the same.\n",
      "\n"
     ]
    }
   ],
   "source": [
    "# Values for G\n",
    "G_values = [1.0,2.0]\n",
    "\n",
    "for G in G_values:\n",
    "    modelQ1 = ClassQ1()\n",
    "\n",
    "    # Assigning values\n",
    "    modelQ1.par.G = G\n",
    "    \n",
    "    # Calling the provided analytical soltion\n",
    "    L_optimal = modelQ1.par.optimal_L\n",
    "\n",
    "    # Solving the model\n",
    "    maximized_L = modelQ1.maximize_utility()\n",
    "    # Printing the value\n",
    "    print(\"When G is equal to\",G,\", optimal L is\", f'{maximized_L[0]:.8f}')    \n",
    "    \n",
    "    if np.isclose(maximized_L[0], L_optimal,rtol=1e-3):\n",
    "            print(\"In this scenario, the values obtained from the minmizer-solution and analytical-solution are approximately the same.\")\n",
    "    else:\n",
    "            print(\"The values are not close.\")\n",
    "    print()"
   ]
  },
  {
   "attachments": {},
   "cell_type": "markdown",
   "metadata": {},
   "source": [
    "**Question 1.2**\n",
    "\n",
    "We generate various real wage values using np.linspace. Then, for each real wage value, we utilize the provided analytical solution to calculate the optimal labor supply, using the optimal_labor_supply() function.\n",
    "\n",
    "Next, we store the results in an empty list. Finally, we plot the real wage on the x-axis and the corresponding optimal labor supply on the y-axis.\n",
    "\n",
    "The graph displays an anticipated outcome. Initially, with a low real wage, the gradient is steep, and subsequently, the optimal labor supply gradually converges towards a stable level, when the real wage increases."
   ]
  },
  {
   "cell_type": "code",
   "execution_count": null,
   "metadata": {},
   "outputs": [],
   "source": [
    "# Define the range of real wage values\n",
    "omega_values = np.linspace(0.1, 2.0, 100)\n",
    "\n",
    "# Calculate the corresponding optimal labor supply choices for each wage value\n",
    "L_star_values = []\n",
    "for omega in omega_values:\n",
    "\n",
    "    modelQ1 = ClassQ1()\n",
    "    modelQ1.par.omega_tilde = (1 - modelQ1.par.tau) * omega\n",
    "    L_star = modelQ1.optimal_labor_supply()\n",
    "    L_star_values.append(L_star)\n",
    "\n",
    "# Plot the relationship between w and L_star\n",
    "plt.plot(omega_values, L_star_values)\n",
    "plt.xlabel('Real Wage')\n",
    "plt.ylabel('Optimal Labor Supply')\n",
    "plt.title('Optimal Labor Supply vs. Real Wage')\n",
    "plt.grid(True)\n",
    "plt.show()   "
   ]
  },
  {
   "attachments": {},
   "cell_type": "markdown",
   "metadata": {},
   "source": [
    "**Question 1.3**\n",
    "\n",
    "The method used is similar to that in Question 1.2. We generate different tau values using np.linspace. For each tau value, we calculate the optimal labor supply, government consumption, and worker utility within a loop.\n",
    "\n",
    "Next, we create empty lists to store all the results.\n",
    "\n",
    "We proceed to create three plots, with tau plotted on the x-axis.\n",
    "\n",
    "The outcomes are as follows: labor supply decreases significantly for high tax levels, government consumption exhibits a maximum point, and worker utility decreases for larger tau values."
   ]
  },
  {
   "cell_type": "code",
   "execution_count": null,
   "metadata": {},
   "outputs": [],
   "source": [
    "# Define the range of tau values\n",
    "tau_values = np.linspace(0.1, 0.9, 100)\n",
    "\n",
    "# Initialize arrays to store the calculated values\n",
    "L_values = []\n",
    "G_values = []\n",
    "utility_values = []\n",
    "\n",
    "# Calculate the corresponding L, G, and worker utility for each tau value\n",
    "for tau in tau_values:\n",
    "    modelQ1 = ClassQ1()\n",
    "    modelQ1.par.omega_tilde = (1 - tau) * modelQ1.par.omega\n",
    "    L_star = modelQ1.optimal_labor_supply()\n",
    "    G = tau * modelQ1.par.omega * L_star * modelQ1.par.omega_tilde\n",
    "    utility = np.log((modelQ1.par.kappa + (1 - tau) * modelQ1.par.omega * L_star)**modelQ1.par.alpha * G**(1 - modelQ1.par.alpha)) - modelQ1.par.nu * L_star**2\n",
    "    L_values.append(L_star)\n",
    "    G_values.append(G)\n",
    "    utility_values.append(utility)\n",
    "\n",
    "# Create subplots with 1 row and 3 columns\n",
    "fig, axs = plt.subplots(1, 3, figsize=(12, 4))\n",
    "\n",
    "# Plot 1: Labor Supply vs. Tax Rate\n",
    "axs[0].plot(tau_values, L_values)\n",
    "axs[0].set_xlabel('Tau (Tax Rate)')\n",
    "axs[0].set_ylabel('Labor Supply (L)')\n",
    "axs[0].set_title('Labor Supply vs. Tax Rate')\n",
    "axs[0].grid(True)\n",
    "\n",
    "# Plot 2: Government Consumption vs. Tax Rate\n",
    "axs[1].plot(tau_values, G_values)\n",
    "axs[1].set_xlabel('Tau (Tax Rate)')\n",
    "axs[1].set_ylabel('Government Consumption (G)')\n",
    "axs[1].set_title('Government Consumption vs. Tax Rate')\n",
    "axs[1].grid(True)\n",
    "\n",
    "# Plot 3: Worker Utility vs. Tax Rate\n",
    "axs[2].plot(tau_values, utility_values)\n",
    "axs[2].set_xlabel('Tau (Tax Rate)')\n",
    "axs[2].set_ylabel('Worker Utility')\n",
    "axs[2].set_title('Worker Utility vs. Tax Rate')\n",
    "axs[2].grid(True)\n",
    "\n",
    "# Adjust spacing between subplots\n",
    "plt.tight_layout()\n",
    "\n",
    "# Display the subplots\n",
    "plt.show()\n"
   ]
  },
  {
   "attachments": {},
   "cell_type": "markdown",
   "metadata": {},
   "source": [
    "**Question 1.4**\n",
    "\n",
    "As one could observe in Question 1.3, there is a specific value of tau between 0.2 and 0.4 that maximizes worker utility.\n",
    "\n",
    "To facilitate this calculation, we introduce a new function called calculate_utility() that computes the utility obtained for various tau values.\n",
    "\n",
    "Subsequently, we utilize the minimize function from scipy to determine the tau value that maximizes worker utility.\n",
    "\n",
    "The result of our analysis reveals that tau = 0.34 corresponds to the optimal value that maximizes worker utility."
   ]
  },
  {
   "cell_type": "code",
   "execution_count": null,
   "metadata": {},
   "outputs": [],
   "source": [
    "# Function to calculate worker utility for a given tau value\n",
    "def calculate_utility(tau):\n",
    "    modelQ1 = ClassQ1()\n",
    "    modelQ1.par.omega_tilde = (1 - tau) * modelQ1.par.omega\n",
    "    L_star = modelQ1.optimal_labor_supply()\n",
    "    G = tau * modelQ1.par.omega * L_star * modelQ1.par.omega_tilde\n",
    "    utility = np.log((modelQ1.par.kappa + (1 - tau) * modelQ1.par.omega * L_star) ** modelQ1.par.alpha * G ** (1 - modelQ1.par.alpha)) - modelQ1.par.nu * L_star ** 2\n",
    "    return -utility  # We minimize the negative utility to maximize the original utility\n",
    "\n",
    "# Find the optimal tau using scipy's minimize_scalar function\n",
    "result = minimize_scalar(calculate_utility, bounds=(0.01, 1), method='bounded')\n",
    "optimal_tau = result.x\n",
    "max_utility = -result.fun\n",
    "\n",
    "print(\"The socially optimal tax rate maximizing worker utility is tau =\", optimal_tau)\n",
    "\n",
    "# Plot the relationship between tau and worker utility\n",
    "utility_values = [-calculate_utility(tau) for tau in tau_values]  # Calculate utility for all tau values\n",
    "plt.plot(tau_values, utility_values)\n",
    "plt.axvline(x=optimal_tau, color='r', linestyle='--', label='Optimal Tau')\n",
    "plt.xlabel('Tau (Tax Rate)')\n",
    "plt.ylabel('Worker Utility')\n",
    "plt.title('Worker Utility vs. Tax Rate')\n",
    "plt.grid(True)\n",
    "plt.legend()\n",
    "plt.tight_layout()\n",
    "plt.show()"
   ]
  },
  {
   "attachments": {},
   "cell_type": "markdown",
   "metadata": {},
   "source": [
    "**Question 1.5**\n",
    "\n",
    "Explain the code"
   ]
  },
  {
   "cell_type": "code",
   "execution_count": null,
   "metadata": {},
   "outputs": [],
   "source": [
    "# Baseline parameters\n",
    "alpha = 0.5\n",
    "kappa = 1.0\n",
    "nu = 1 / (2 * (16 ** 2))\n",
    "omega = 1.0\n",
    "tau = 0.3432216374902929  # Tau found in Q1.3\n",
    "government = 3.4\n",
    "epsilon = 1\n",
    "\n",
    "# Set1 parameters\n",
    "sigma_set1 = 1.001\n",
    "rho_set1 = 1.001\n",
    "\n",
    "# Utility function for set1 parameters\n",
    "def objective_function_q5_set1(L):\n",
    "    C = kappa + (1 - tau) * omega * L\n",
    "    value = (((alpha * C ** ((sigma_set1 - 1) / sigma_set1) + (1 - alpha) * government ** (\n",
    "                (sigma_set1 - 1) / sigma_set1)) ** (sigma_set1 / (sigma_set1 - 1))) ** (1 - rho_set1) - 1) / (\n",
    "                     1 - rho_set1) - nu * (L ** (1 + epsilon)) / (1 + epsilon)\n",
    "    return -value  # negative because we want to maximize\n",
    "\n",
    "# Finding optimal labor hours for set1 parameters\n",
    "def maximize_utility_q5_set1():\n",
    "    result_q5_set1 = minimize_scalar(objective_function_q5_set1, bounds=(0, 100), method='bounded')\n",
    "    return result_q5_set1.x\n",
    "\n",
    "# Setting up government constraint\n",
    "def constraint(government, L_optimal):\n",
    "    return government - tau * omega * L_optimal * (1 - tau) * omega\n",
    "\n",
    "# Function to minimize\n",
    "def objective_function(government):\n",
    "    return abs(constraint(government, L_optimal))\n",
    "\n",
    "# Bisection method to find the government value\n",
    "def find_government_value():\n",
    "    a = 0.0  # Lower bound of government value\n",
    "    b = 10.0  # Upper bound of government value\n",
    "\n",
    "    # Find the root using bounded method\n",
    "    result = minimize_scalar(objective_function, bounds=(a, b), method='bounded')\n",
    "\n",
    "    if result.success:\n",
    "        return result.x\n",
    "    else:\n",
    "        return None\n",
    "\n",
    "# Run the code\n",
    "L_optimal = maximize_utility_q5_set1()\n",
    "government_value = find_government_value()\n",
    "\n",
    "if government_value is not None:\n",
    "    G_residual = constraint(government_value, L_optimal)\n",
    "    print(\"With the parameters from set1, we obtain the following results:\")\n",
    "    print(\"Optimal labor hours:\", L_optimal)\n",
    "    print(\"Government value:\", government_value)\n",
    "    print(\"G_residual:\", G_residual)\n",
    "else:\n",
    "    print(\"Failed to find a government value that satisfies the constraint.\")"
   ]
  },
  {
   "cell_type": "code",
   "execution_count": null,
   "metadata": {},
   "outputs": [],
   "source": [
    "# Baseline parameters\n",
    "alpha = 0.5\n",
    "kappa = 1.0\n",
    "nu = 1 / (2 * (16 ** 2))\n",
    "omega = 1.0\n",
    "tau = 0.3432216374902929  # Tau found in Q1.3\n",
    "government = 3.4\n",
    "epsilon = 1\n",
    "\n",
    "# Set2 parameters\n",
    "sigma_set2 = 1.5\n",
    "rho_set2 = 1.5\n",
    "\n",
    "# Utility function for set2 parameters\n",
    "def objective_function_q5_set2(L):\n",
    "    C = kappa + (1 - tau) * omega * L\n",
    "    value = (((alpha * C ** ((sigma_set2 - 1) / sigma_set2) + (1 - alpha) * government ** (\n",
    "                (sigma_set2 - 1) / sigma_set2)) ** (sigma_set2 / (sigma_set2 - 1))) ** (1 - rho_set2) - 1) / (\n",
    "                     1 - rho_set2) - nu * (L ** (1 + epsilon)) / (1 + epsilon)\n",
    "    return -value  # negative because we want to maximize\n",
    "\n",
    "# Finding optimal labor hours for set2 parameters\n",
    "def maximize_utility_q5_set2():\n",
    "    result_q5_set2 = minimize_scalar(objective_function_q5_set2, bounds=(0, 100), method='bounded')\n",
    "    return result_q5_set2.x\n",
    "\n",
    "# Setting up government constraint\n",
    "def constraint(government, L_optimal):\n",
    "    return government - tau * omega * L_optimal * (1 - tau) * omega\n",
    "\n",
    "# Function to minimize\n",
    "def objective_function(government):\n",
    "    return abs(constraint(government, L_optimal))\n",
    "\n",
    "# Bisection method to find the government value\n",
    "def find_government_value():\n",
    "    a = 0.0  # Lower bound of government value\n",
    "    b = 10.0  # Upper bound of government value\n",
    "\n",
    "    # Find the root using bounded method\n",
    "    result = minimize_scalar(objective_function, bounds=(a, b), method='bounded')\n",
    "\n",
    "    if result.success:\n",
    "        return result.x\n",
    "    else:\n",
    "        return None\n",
    "\n",
    "# Run the code\n",
    "L_optimal = maximize_utility_q5_set2()\n",
    "government_value = find_government_value()\n",
    "\n",
    "if government_value is not None:\n",
    "    G_residual = constraint(government_value, L_optimal)\n",
    "    print(\"With the parameters from set2, we obtain the following results:\")\n",
    "    print(\"Optimal labor hours:\", L_optimal)\n",
    "    print(\"Government value:\", government_value)\n",
    "    print(\"G_residual:\", G_residual)\n",
    "else:\n",
    "    print(\"Failed to find a government value that satisfies the constraint.\")"
   ]
  },
  {
   "attachments": {},
   "cell_type": "markdown",
   "metadata": {},
   "source": [
    "**Question 1.6**\n",
    "\n",
    "Explain the code"
   ]
  },
  {
   "cell_type": "code",
   "execution_count": null,
   "metadata": {},
   "outputs": [],
   "source": [
    "# Utility function for set1 parameters\n",
    "def objective_function_q5_set1(L, tau):\n",
    "    C = kappa + (1 - tau) * omega * L\n",
    "    value = (((alpha * C ** ((sigma_set1 - 1) / sigma_set1) + (1 - alpha) * government ** (\n",
    "                (sigma_set1 - 1) / sigma_set1)) ** (sigma_set1 / (sigma_set1 - 1))) ** (1 - rho_set1) - 1) / (\n",
    "                     1 - rho_set1) - nu * (L ** (1 + epsilon)) / (1 + epsilon)\n",
    "    return -value  # negative because we want to maximize\n",
    "\n",
    "# Function to minimize\n",
    "def objective_function(tau):\n",
    "    L_optimal = maximize_utility_q5_set1(tau)\n",
    "    G_residual = constraint(government, L_optimal)\n",
    "    return abs(G_residual)\n",
    "\n",
    "# Finding optimal labor hours for set1 parameters and given tau\n",
    "def maximize_utility_q5_set1(tau):\n",
    "    result_q5_set1 = minimize_scalar(objective_function_q5_set1, bounds=(0, 100), args=(tau,), method='bounded')\n",
    "    return result_q5_set1.x\n",
    "\n",
    "# Bisection method to find the tau value\n",
    "def find_tau_value():\n",
    "    a = 0.0  # Lower bound of tau value\n",
    "    b = 1.0  # Upper bound of tau value\n",
    "\n",
    "    # Find the root using bounded method\n",
    "    result = minimize_scalar(objective_function, bounds=(a, b), method='bounded')\n",
    "\n",
    "    if result.success:\n",
    "        return result.x\n",
    "    else:\n",
    "        return None\n",
    "\n",
    "# Run the code\n",
    "tau_value = find_tau_value()\n",
    "\n",
    "if tau_value is not None:\n",
    "    L_optimal = maximize_utility_q5_set1(tau_value)\n",
    "    government_value = constraint(government, L_optimal)\n",
    "    print(\"With the parameters from set1, we obtain the following results:\")\n",
    "    print(\"Optimal labor hours:\", L_optimal)\n",
    "    print(\"Government value:\", government_value)\n",
    "    print(\"G_residual:\", G_residual)\n",
    "    print(\"Socially optimal tax rate:\", tau_value)"
   ]
  },
  {
   "cell_type": "code",
   "execution_count": null,
   "metadata": {},
   "outputs": [],
   "source": [
    "# Utility function for set2 parameters\n",
    "def objective_function_q5_set2(L, tau):\n",
    "    C = kappa + (1 - tau) * omega * L\n",
    "    value = (((alpha * C ** ((sigma_set2 - 1) / sigma_set2) + (1 - alpha) * government ** (\n",
    "                (sigma_set2 - 1) / sigma_set2)) ** (sigma_set2 / (sigma_set2 - 1))) ** (1 - rho_set2) - 1) / (\n",
    "                     1 - rho_set2) - nu * (L ** (1 + epsilon)) / (1 + epsilon)\n",
    "    return -value  # negative because we want to maximize\n",
    "\n",
    "# Function to minimize\n",
    "def objective_function(tau):\n",
    "    L_optimal = maximize_utility_q5_set2(tau)\n",
    "    G_residual = constraint(government, L_optimal)\n",
    "    return abs(G_residual)\n",
    "\n",
    "# Finding optimal labor hours for set2 parameters and given tau\n",
    "def maximize_utility_q5_set2(tau):\n",
    "    result_q5_set2 = minimize_scalar(objective_function_q5_set2, bounds=(0, 100), args=(tau,), method='bounded')\n",
    "    return result_q5_set2.x\n",
    "\n",
    "# Bisection method to find the tau value\n",
    "def find_tau_value():\n",
    "    a = 0.0  # Lower bound of tau value\n",
    "    b = 1.0  # Upper bound of tau value\n",
    "\n",
    "    # Find the root using bounded method\n",
    "    result = minimize_scalar(objective_function, bounds=(a, b), method='bounded')\n",
    "\n",
    "    if result.success:\n",
    "        return result.x\n",
    "    else:\n",
    "        return None\n",
    "\n",
    "# Run the code\n",
    "tau_value = find_tau_value()\n",
    "\n",
    "if tau_value is not None:\n",
    "    L_optimal = maximize_utility_q5_set2(tau_value)\n",
    "    government_value = constraint(government, L_optimal)\n",
    "    print(\"With the parameters from set2, we obtain the following results:\")\n",
    "    print(\"Optimal labor hours:\", L_optimal)\n",
    "    print(\"Government value:\", government_value)\n",
    "    print(\"G_residual:\", G_residual)\n",
    "    print(\"Socially optimal tax rate:\", tau_value)"
   ]
  },
  {
   "attachments": {},
   "cell_type": "markdown",
   "metadata": {},
   "source": [
    "# Problem 2"
   ]
  },
  {
   "attachments": {},
   "cell_type": "markdown",
   "metadata": {},
   "source": [
    "**Question 2.1**\n",
    "\n",
    "Explain the code\n"
   ]
  },
  {
   "cell_type": "code",
   "execution_count": null,
   "metadata": {},
   "outputs": [],
   "source": [
    "code"
   ]
  },
  {
   "attachments": {},
   "cell_type": "markdown",
   "metadata": {},
   "source": [
    "**Question 2.2**\n",
    "\n",
    "Explain the code\n"
   ]
  },
  {
   "cell_type": "code",
   "execution_count": null,
   "metadata": {},
   "outputs": [],
   "source": [
    "code"
   ]
  },
  {
   "attachments": {},
   "cell_type": "markdown",
   "metadata": {},
   "source": [
    "**Question 2.3**\n",
    "\n",
    "Explain the code"
   ]
  },
  {
   "cell_type": "code",
   "execution_count": null,
   "metadata": {},
   "outputs": [],
   "source": [
    "code"
   ]
  },
  {
   "attachments": {},
   "cell_type": "markdown",
   "metadata": {},
   "source": [
    "**Question 2.4**\n",
    "\n",
    "Explain the code"
   ]
  },
  {
   "cell_type": "code",
   "execution_count": null,
   "metadata": {},
   "outputs": [],
   "source": [
    "code"
   ]
  },
  {
   "attachments": {},
   "cell_type": "markdown",
   "metadata": {},
   "source": [
    "# Problem 3"
   ]
  },
  {
   "attachments": {},
   "cell_type": "markdown",
   "metadata": {},
   "source": [
    "**Question 2.5**\n",
    "\n",
    "Explain the code"
   ]
  },
  {
   "attachments": {},
   "cell_type": "markdown",
   "metadata": {},
   "source": [
    "**Question 3.1**\n",
    "\n",
    "We implement the Griewank optimization algorithm in the class \"GriewankOptimizer\". The class takes inputs such as bounds, tolerance, warm-up iterations, and maximum iterations as inputs. The class includes functions for calculating the Griewank function, refining the global optimization, and plotting the results.\n",
    "\n",
    "The refined_global_optimizer() function performs the optimization by iteratively generating random initial points and updating them based on the Griewank function's values. After a warm-up period, it uses the minimize function from the SciPy library to refine the initial points. The best solution found so far is stored and compared with each new solution obtained. The process continues until the maximum number of iterations is reached or the tolerance level is met.\n",
    "\n",
    "Finally, the run_optimization() function executes the optimization process, prints the best solution found, and displays a plot showing the progression of the initial guesses (x0) over the iterations."
   ]
  },
  {
   "cell_type": "code",
   "execution_count": null,
   "metadata": {},
   "outputs": [],
   "source": [
    "# Create an instance of the GriewankOptimizer class\n",
    "bounds = [-600, 600]\n",
    "tol = 1e-8\n",
    "warmup_iter = 10\n",
    "max_iter = 1000\n",
    "optimizer = GriewankOptimizer(bounds, tol, warmup_iter, max_iter)\n",
    "\n",
    "# Run the optimization\n",
    "optimizer.run_optimization()"
   ]
  },
  {
   "attachments": {},
   "cell_type": "markdown",
   "metadata": {},
   "source": [
    "**Question 3.2**\n",
    "\n",
    "We utilize the refined global optimizer with multi-start in our analysis once again. It is executed for different values of $\\underline{K}$, specifically 10 and 100, to compare the number of iterations required to find the global minimum. We also examine different seeds due to the uniform distribution of vector x, as randomness could potentially impact the outcome.\n",
    "\n",
    "Upon comparing the results between $\\underline{K} = 10$ and $\\underline{K} = 100$, it is evident that, in general, $\\underline{K} = 10$ outperforms the latter. This is indicated by the requirement of fewer iterations to identify the global minimum.\n",
    "\n",
    "When $\\underline{K} = 100$, the increased number of warm-up iterations allows the optimizer to explore the solution space more extensively before applying the refinement strategy. However, overall, this approach proves to be inefficient."
   ]
  },
  {
   "cell_type": "code",
   "execution_count": null,
   "metadata": {},
   "outputs": [],
   "source": [
    "def griewank(x):\n",
    "    return griewank_(x[0], x[1])\n",
    "\n",
    "def griewank_(x1, x2):\n",
    "    A = x1**2 / 4000 + x2**2 / 4000\n",
    "    B = np.cos(x1 / np.sqrt(1)) * np.cos(x2 / np.sqrt(2))\n",
    "    return A - B + 1\n",
    "\n",
    "def refined_global_optimizer(bounds, tol, warmup_iter, max_iter, seed):\n",
    "    np.random.seed(seed)\n",
    "    x_best = None\n",
    "\n",
    "    for k in range(max_iter):\n",
    "        x = np.random.uniform(bounds[0], bounds[1], size=2)\n",
    "\n",
    "        if k >= warmup_iter:\n",
    "            chi = 0.5 * (2 / (1 + np.exp((k - warmup_iter) / 100)))\n",
    "            x0 = chi * x + (1 - chi) * x_best\n",
    "            res = minimize(griewank, x0, method='BFGS', tol=tol)\n",
    "        else:\n",
    "            res = minimize(griewank, x, method='BFGS', tol=tol)\n",
    "\n",
    "        x_best = res.x if k == 0 or res.fun < griewank(x_best) else x_best\n",
    "\n",
    "        if griewank(x_best) < tol:\n",
    "            break\n",
    "\n",
    "    return x_best, k+1\n",
    "\n",
    "# Settings\n",
    "bounds = [-600, 600]\n",
    "tol = 1e-8\n",
    "max_iter = 1000\n",
    "K_values = [10,100]\n",
    "seed_values = [2000, 2001, 2002, 2003, 2004]  # Different seed values to iterate over\n",
    "\n",
    "# Table headers\n",
    "headers = [\"Seed\", \"K\", \"Convergence Iterations\", \"x_best\", \"f(x_best)\"]\n",
    "\n",
    "# Table rows\n",
    "table = []\n",
    "\n",
    "for seed in seed_values:\n",
    "    for K in K_values:\n",
    "        # Run optimizer with current K and seed\n",
    "        warmup_iter = K\n",
    "        result, iterations = refined_global_optimizer(bounds, tol, warmup_iter, max_iter, seed)\n",
    "        f_x_best = griewank(result)\n",
    "\n",
    "        # Append row to the table\n",
    "        table.append([seed, K, iterations, result.round(4), f_x_best])\n",
    "\n",
    "# Print the table\n",
    "print(tabulate.tabulate(table, headers=headers, tablefmt=\"grid\"))\n"
   ]
  }
 ],
 "metadata": {
  "kernelspec": {
   "display_name": "base",
   "language": "python",
   "name": "python3"
  },
  "language_info": {
   "codemirror_mode": {
    "name": "ipython",
    "version": 3
   },
   "file_extension": ".py",
   "mimetype": "text/x-python",
   "name": "python",
   "nbconvert_exporter": "python",
   "pygments_lexer": "ipython3",
   "version": "3.9.13"
  },
  "toc-autonumbering": true,
  "vscode": {
   "interpreter": {
    "hash": "40d3a090f54c6569ab1632332b64b2c03c39dcf918b08424e98f38b5ae0af88f"
   }
  }
 },
 "nbformat": 4,
 "nbformat_minor": 4
}
