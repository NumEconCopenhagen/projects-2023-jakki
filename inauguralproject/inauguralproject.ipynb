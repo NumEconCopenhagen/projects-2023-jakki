{
 "cells": [
  {
   "attachments": {},
   "cell_type": "markdown",
   "metadata": {},
   "source": [
    "# Inaugural Project"
   ]
  },
  {
   "attachments": {},
   "cell_type": "markdown",
   "metadata": {},
   "source": [
    "This inaugural project is made by:\n",
    "- Jacob Grenaa Vestergaard\n",
    "- Emil Henry Erbas\n",
    "- Jeppe Vanderhaegen"
   ]
  },
  {
   "attachments": {},
   "cell_type": "markdown",
   "metadata": {},
   "source": [
    "We consider the following model:\n",
    "$$\n",
    "\\begin{align}\n",
    "\\max_{L_M,H_M,L_F,H_F} & \\frac{Q^{1-\\rho}}{1-\\rho} - \\nu \\left(\\frac{T_M^{1+\\frac{1}{\\epsilon}}}{1+\\frac{1}{\\epsilon}} + \\frac{T_F^{1+\\frac{1}{\\epsilon}}}{1+\\frac{1}{\\epsilon}}  \\right), \\ \\rho > 1, \\nu > 0, \\epsilon > 0 \\\\\n",
    "\\text{s.t.}& \\nonumber \\\\\n",
    "C &= w_M L_M + w_F L_F \\\\\n",
    "H &= \\begin{cases}\n",
    "\\min\\{H_M,H_F\\} & \\text{if } \\sigma = 0 \\\\\n",
    "H_M^{1-\\alpha}H_F^\\alpha & \\text{if } \\sigma = 1 \\\\\n",
    "\\left(\\left(1-\\alpha\\right) H_M^{\\frac{\\sigma-1}{\\sigma}} + \\alpha H_F^{\\frac{\\sigma-1}{\\sigma}}\\right) & \\text{else}\n",
    "\\end{cases}\\\\\n",
    "Q &= C^\\omega H^{1-\\omega} \\\\\n",
    "T_M &= L_M + H_M \\\\\n",
    "T_F &= L_F + H_F \\\\\n",
    "L_M,H_M,L_F,H_F &\\geq 0 \\\\\n",
    "T_M,T_F &\\leq 24\n",
    "\\end{align}\n",
    "$$"
   ]
  },
  {
   "attachments": {},
   "cell_type": "markdown",
   "metadata": {},
   "source": [
    "# Importing essentials"
   ]
  },
  {
   "cell_type": "code",
   "execution_count": null,
   "metadata": {},
   "outputs": [],
   "source": [
    "# Importing autoreload\n",
    "%load_ext autoreload\n",
    "%autoreload 2\n",
    "\n",
    "# Importing essential packages\n",
    "from types import SimpleNamespace\n",
    "from scipy import optimize\n",
    "import numpy as np\n",
    "import matplotlib.pyplot as plt\n",
    "\n",
    "# Importing the model\n",
    "from HouseholdSpecializationModel import HouseholdSpecializationModelClass\n",
    "\n",
    "# Defining the model in this Notebook\n",
    "model = HouseholdSpecializationModelClass()"
   ]
  },
  {
   "attachments": {},
   "cell_type": "markdown",
   "metadata": {},
   "source": [
    "# Question 1"
   ]
  },
  {
   "attachments": {},
   "cell_type": "markdown",
   "metadata": {},
   "source": [
    "**Explanation of the code**\n",
    "\n",
    "First, we define a list of the requested values for alpha and sigma. Subsequently, empty lists are created to store the results obtained from solving the model for these various values.\n",
    "\n",
    "Next, we proceed with constructing a loop that iterates through all the different combinations of alpha and sigma. Within each iteration, the model is solved, and the ratio, HF/HM, is calculated. These results are then added to the list.\n",
    "\n",
    "Upon completion of the loop, the collected results are visualized using matplotlib. At last, the results are printed in a custom-maded table.\n",
    "\n"
   ]
  },
  {
   "cell_type": "code",
   "execution_count": null,
   "metadata": {},
   "outputs": [],
   "source": [
    "import warnings\n",
    "warnings.filterwarnings(\"ignore\")\n",
    "\n",
    "# Defining the different values of alpha and sigma\n",
    "alpha_vals = [0.25, 0.5, 0.75]\n",
    "sigma_vals = [0.5, 1, 1.5]\n",
    "\n",
    "# Creating empty lists, to store results\n",
    "ratios = []\n",
    "alphas = []\n",
    "sigmas = []\n",
    "\n",
    "# Creating a loop for the different values of alpha and sigma\n",
    "for alpha in alpha_vals:\n",
    "    for sigma in sigma_vals:\n",
    "        \n",
    "        # Using the model to calculate optimal HF and HM\n",
    "        household = HouseholdSpecializationModelClass()\n",
    "        \n",
    "        # Set the desired parameter values\n",
    "        household.par.alpha = alpha\n",
    "        household.par.sigma = sigma\n",
    "        \n",
    "        # Solving for the optimal values\n",
    "        opt = household.solve_discrete()\n",
    "        \n",
    "        # Calculating the ratio, HF/HM\n",
    "        ratio = opt.HF / opt.HM\n",
    "        \n",
    "        # Storing the results in the empty lists\n",
    "        ratios.append(ratio)\n",
    "        alphas.append(alpha)\n",
    "        sigmas.append(sigma)\n",
    "        \n",
    "# Creating a scatterplot of the stored results in the list\n",
    "plt.scatter(alphas, sigmas, c=ratios)\n",
    "plt.colorbar(label='HF/HM ratio')\n",
    "plt.xlabel('Alpha')\n",
    "plt.ylabel('Sigma')\n",
    "plt.show()\n",
    "\n",
    "# Also creating a table\n",
    "def print_table():\n",
    "    #We define an empty text string to enter a title later\n",
    "    text = ''\n",
    "\n",
    "    # Creating the top header of the table. Alpha is values downward and Sigma to the right.\n",
    "    text += f'{\"Alpha - Sigma\":3s}'\n",
    "    for j, sigma in enumerate(sigma_vals):\n",
    "       household.par.sigma = sigma\n",
    "       text += f'{sigma:8.2f}' \n",
    "    text += '\\n' + \"-\"*40 + \"\\n\" # creating a line shift \n",
    "    \n",
    "    # Creating the body of the table\n",
    "    for i, alpha in enumerate(alpha_vals):\n",
    "        household.par.alpha = alpha\n",
    "        if i > 0:\n",
    "            text += '\\n' # creating a line shift\n",
    "        text += f'{alpha:8.2f}    |' # creating the left header\n",
    "        for j, sigma in enumerate(sigma_vals):\n",
    "            household.par.sigma=sigma\n",
    "            opt = household.solve_discrete()\n",
    "            text += f'{opt.HF/opt.HM:7.2f}'\n",
    "    \n",
    "    # Print\n",
    "    print(text)\n",
    "\n",
    "print_table()"
   ]
  },
  {
   "attachments": {},
   "cell_type": "markdown",
   "metadata": {},
   "source": [
    "# Question 2"
   ]
  },
  {
   "attachments": {},
   "cell_type": "markdown",
   "metadata": {},
   "source": [
    "**Explanation of the code**\n",
    "\n",
    "To begin, we initialize an empty list to hold the results obtained from the loop. We iterate over each element, wF, in the vector of interest and discretely solve the model. For each iteration, we calculate the logarithmic ratio between HF and HM. After completing the loop, we add the calculated results to the empty list.\n",
    "\n",
    "Finally, we plot the logarithm of HF/HM on the y-axis, which we obtained from the loop, and the logarithm of wF/wM on the x-axis."
   ]
  },
  {
   "cell_type": "code",
   "execution_count": null,
   "metadata": {},
   "outputs": [],
   "source": [
    "# Empty list to store results\n",
    "ratiosQ2 = []\n",
    "\n",
    "# Lists to store x and y coordinates\n",
    "x_coords = []\n",
    "y_coords = []\n",
    "\n",
    "# Looping over wF values\n",
    "for wF in model.par.wF_vec:\n",
    "    \n",
    "    # Setting value \n",
    "    model.par.wF = wF\n",
    "\n",
    "    # Solving for discrete optimal choice\n",
    "    opti = model.solve_discrete()\n",
    "\n",
    "    # Creating Ratio \n",
    "    HF_HM = np.log(opti.HF/opti.HM)\n",
    "\n",
    "    # Storing coordinates\n",
    "    x_coords.append(np.log(wF/model.par.wM))\n",
    "    y_coords.append(HF_HM)\n",
    "\n",
    "    # Plotting \n",
    "    plt.plot(np.log(wF/model.par.wM), HF_HM, 'o', label=f'wF = {wF/model.par.wM:.2f}', linestyle=\"--\")\n",
    "\n",
    "    # Storing results\n",
    "    ratiosQ2.append(HF_HM)\n",
    "\n",
    "# Plotting the line\n",
    "plt.plot(x_coords, y_coords, color='grey', linestyle='--')\n",
    "\n",
    "# Adding text annotations for the five dots\n",
    "for i in range(5):\n",
    "    plt.annotate(f'({x_coords[i]:.2f}, {y_coords[i]:.2f})', (x_coords[i], y_coords[i]))\n",
    "\n",
    "# Customizing plot \n",
    "plt.xlabel(r'$\\log(\\frac{w_F}{w_M})$')\n",
    "plt.ylabel(r'$\\log(\\frac{H_F}{H_M})$')\n",
    "plt.legend()\n",
    "\n",
    "# Printing and visualizing\n",
    "plt.show()\n",
    "\n"
   ]
  },
  {
   "attachments": {},
   "cell_type": "markdown",
   "metadata": {},
   "source": [
    "# Question 3"
   ]
  },
  {
   "attachments": {},
   "cell_type": "markdown",
   "metadata": {},
   "source": [
    "**Explanation of the code**\n",
    "\n",
    "We utilize the solve_wF_vec method to solve the model based on the requested parameters. Next, we compute the logHFHM_ratio_results, which is derived from the optimal model (model.opt.logHFHM). The logFwM_ratio is then assigned a logarithmic numpy array, encompassing the values [0.8, 0.9, 1.0, 1.1, 1.2].Subsequently, we generate a plot with wF/wM on the x-axis and HF/HM on the y-axis.\n",
    "\n",
    "The creation of the plot is accomplished using the matplotlib.pyplot library. To label the points on the plot, we iterate over them, using the zip function.\n",
    "\n",
    "The plot reveals an ascending trend in the HF/HM ratio as the wF/wM ratio declines. This observation aligns with expectations since the HF/HM ratio represents the household's utility from consumption and leisure, while the wF/wM ratio represents the household's wage relative to the market's wage."
   ]
  },
  {
   "cell_type": "code",
   "execution_count": null,
   "metadata": {},
   "outputs": [],
   "source": [
    "# Solving the model\n",
    "model.solve_wF_vec()\n",
    "\n",
    "logHFHM_ratio_results = model.opt.logHFHM\n",
    "logwFwM_ratio = np.log(model.par.wF_vec)\n",
    "\n",
    "# Plot results\n",
    "plt.plot(logwFwM_ratio, logHFHM_ratio_results, 'o--', color='grey')\n",
    "\n",
    "# Set title and labels\n",
    "plt.title(r'$\\log\\left(\\frac{H_F}{H_M}\\right)$ against $\\log\\left(\\frac{w_F}{w_M}\\right)$ continously for $w_f \\: \\in$ [0.8,0.9,1.0,1.1,1.2]')\n",
    "plt.xlabel(r'$\\log\\left(\\frac{w_F}{w_M}\\right)$')\n",
    "plt.ylabel(r'$\\log\\left(\\frac{H_F}{H_M}\\right)$')\n",
    "\n",
    "# Add annotations\n",
    "for x, y in zip(logwFwM_ratio, logHFHM_ratio_results):\n",
    "    plt.annotate(f\"({x:.2f}, {y:.2f})\", (x + 0.001, y + 0.0005))\n",
    "\n",
    "\n",
    "plt.show()"
   ]
  },
  {
   "attachments": {},
   "cell_type": "markdown",
   "metadata": {},
   "source": [
    "# Question 4"
   ]
  },
  {
   "attachments": {},
   "cell_type": "markdown",
   "metadata": {},
   "source": [
    "**Explanation of the code**\n",
    "\n",
    "We begin by employing the estimation method outlined in HouseHoldSpecializationModel.py. Subsequently, we assign the values obtained from the estimate() function to sigma and alpha. With these newly acquired estimates, we utilize the solve_wF_vec method to solve the model once more. Following this, we generate a set of lines based on the information provided by Siminski and Yetsenga (2022) using numpy.linspace and numpy.log. To visualize the outcomes, we plot the results employing matplotlib.pyplot. Finally, we iterate over the points to add annotations.\n",
    "\n",
    "The results can be observed below.\n",
    "\n",
    "\n",
    "\n"
   ]
  },
  {
   "cell_type": "code",
   "execution_count": null,
   "metadata": {},
   "outputs": [],
   "source": [
    "# Calling the estimate() function\n",
    "model.estimate(do_print=True)\n",
    "\n",
    "# Assigning the obtained values to our model\n",
    "model.par.alpha = model.opt.alpha\n",
    "model.par.sigma = model.opt.sigma\n",
    "\n",
    "# Printing beta0 and beta1\n",
    "print(f'Using the estimates for alpha and sigma, we find that beta0 is {model.opt.beta0:.5f} and beta1 is {model.opt.beta1:.5f}, which is approximately the same as Siminski and Yetsenga (2022)')\n",
    "\n",
    "# Solving model with new estimates\n",
    "model.solve_wF_vec()\n",
    "\n",
    "# Storing obtained results\n",
    "logHFHM_ratio_results = model.opt.logHFHM\n",
    "logwFwM_ratio = np.log([0.8, 0.9, 1.0, 1.1, 1.2])\n",
    "\n",
    "# Genereating results from Siminski and Yetsenga (2022)\n",
    "x = np.log(np.linspace(0.8, 1.2, 2))\n",
    "y = model.par.beta0_target + model.par.beta1_target*x\n",
    "\n",
    "plt.plot(x, y, color='red', linestyle='-', label='Siminski and Yetsenga (2022)')\n",
    "plt.plot(logwFwM_ratio, logHFHM_ratio_results, marker='o', linestyle='--', label='Baseline model')\n",
    "\n",
    "# Legend\n",
    "plt.legend(loc='upper right')\n",
    "\n",
    "# Customizing the plot\n",
    "plt.title(r'$\\log\\left(\\frac{H_F}{H_M}\\right)$ against $\\log\\left(\\frac{w_F}{w_M}\\right)$')\n",
    "plt.xlabel(r'$\\log\\left(\\frac{w_F}{w_M}\\right)$')\n",
    "plt.ylabel(r'$\\log\\left(\\frac{H_F}{H_M}\\right)$')\n",
    "\n",
    "# Creating annotations\n",
    "for i in range(5):\n",
    "    plt.annotate(f\"({logwFwM_ratio[i]:.2f}, {logHFHM_ratio_results[i]:.2f})\", (logwFwM_ratio[i], logHFHM_ratio_results[i]), xytext=(5, 5), textcoords='offset points')\n",
    "\n",
    "# Gridlines\n",
    "plt.grid(True, linestyle='--', alpha=0.5)\n",
    "\n",
    "# Adjusting the layout\n",
    "plt.tight_layout()\n",
    "\n",
    "# Display the plot\n",
    "plt.show()"
   ]
  },
  {
   "attachments": {},
   "cell_type": "markdown",
   "metadata": {},
   "source": [
    "# Question 5"
   ]
  },
  {
   "attachments": {},
   "cell_type": "markdown",
   "metadata": {},
   "source": [
    "**Explanation of the code**\n",
    "\n",
    "Assuming empirical data reveals that alpha equals 0.5, we delve into the consequences it entails for the estimation and execute the baseline model under this condition. The resulting outcomes can be observed in the first of the two Python cells provided below.\n",
    "\n",
    "To expand the model, we introduce the consideration of variation in utility derived from work between men and women. Subsequently, we re-estimate the model and present the results in the latter of the two Python cells below.\n",
    "\n",
    "In light of these findings, we can deduce that our model extension exhibits a slight improvement. This is evidenced by the fact that the error in the extended model is consistently smaller.\n"
   ]
  },
  {
   "cell_type": "code",
   "execution_count": 33,
   "metadata": {},
   "outputs": [
    {
     "name": "stdout",
     "output_type": "stream",
     "text": [
      "The error is minimized, when alpha is 0.500 and sigma is 0.010.\n",
      "This result in beta0 being equal to 0.000 and beta1 being equal -0.010.\n",
      "The error is 0.168.\n"
     ]
    }
   ],
   "source": [
    "# Ensuring baseline values\n",
    "model.par.alpha = 0.5\n",
    "model.par.sigma = 1.0\n",
    "\n",
    "# Running the model\n",
    "model.estimate_extended(sigma=1.0,epsilon_M=1.0,epsilon_F=1.0,extend=False)\n",
    "\n",
    "# Results\n",
    "error1 = (model.opt.beta0 - model.par.beta0_target)**2 + (model.opt.beta1 - model.par.beta1_target)**2\n",
    "print(f'The error is minimized, when alpha is {model.par.alpha:.3f} and sigma is {model.par.sigma:.3f}.')\n",
    "print(f'This result in beta0 being equal to {model.opt.beta0:.3f} and beta1 being equal {model.opt.beta1:.3f}.') \n",
    "print(f'Under these circumstances, the error is {error1:.3f}.')"
   ]
  },
  {
   "cell_type": "code",
   "execution_count": 35,
   "metadata": {},
   "outputs": [
    {
     "name": "stdout",
     "output_type": "stream",
     "text": [
      "The error minimized, when alpha is 0.500 and sigma is 0.100.\n",
      "This result in beta0 being equal 0.000 and beta1 being equal to -0.100.\n",
      "In the baseline model, epislon is 1. We find that epsilon_M is 1.043 and epsilon_F is 1.024.\n",
      "Under these circumstances, the error in the extended model is 0.160.\n"
     ]
    }
   ],
   "source": [
    "# Ensuring baseline values\n",
    "model.par.alpha = 0.5\n",
    "model.par.sigma = 1.0\n",
    "model.par.epsilon_F = 1.0\n",
    "model.par.epsilon_M = 1.0\n",
    "\n",
    "# Running the extended model\n",
    "model.estimate_extended(sigma=1.0,epsilon_M=1.0,epsilon_F=1.0,extend=True)\n",
    "\n",
    "# Results\n",
    "error2 = (model.opt.beta0 - model.par.beta0_target)**2 + (model.opt.beta1 - model.par.beta1_target)**2\n",
    "print(f'The error minimized, when alpha is {model.par.alpha:.3f} and sigma is {model.par.sigma:.3f}.')\n",
    "print(f'This result in beta0 being equal {model.opt.beta0:.3f} and beta1 being equal to {model.opt.beta1:.3f}.') \n",
    "print((f'In the baseline model, epislon is 1. We find that epsilon_M is {model.par.epsilon_M:.3f} and epsilon_F is {model.par.epsilon_F:.3f}.'))\n",
    "print(f'Under these circumstances, the error in the extended model is {error2:.3f}.')"
   ]
  }
 ],
 "metadata": {
  "kernelspec": {
   "display_name": "base",
   "language": "python",
   "name": "python3"
  },
  "language_info": {
   "codemirror_mode": {
    "name": "ipython",
    "version": 3
   },
   "file_extension": ".py",
   "mimetype": "text/x-python",
   "name": "python",
   "nbconvert_exporter": "python",
   "pygments_lexer": "ipython3",
   "version": "3.9.13"
  },
  "toc-autonumbering": true,
  "vscode": {
   "interpreter": {
    "hash": "40d3a090f54c6569ab1632332b64b2c03c39dcf918b08424e98f38b5ae0af88f"
   }
  }
 },
 "nbformat": 4,
 "nbformat_minor": 4
}
