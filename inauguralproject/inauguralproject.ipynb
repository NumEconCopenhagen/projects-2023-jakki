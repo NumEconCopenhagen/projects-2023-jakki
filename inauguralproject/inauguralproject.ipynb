{
 "cells": [
  {
   "cell_type": "markdown",
   "metadata": {},
   "source": [
    "# Inaugural Project"
   ]
  },
  {
   "attachments": {},
   "cell_type": "markdown",
   "metadata": {},
   "source": [
    "Importing packages and activating autoreload"
   ]
  },
  {
   "cell_type": "code",
   "execution_count": 1,
   "metadata": {},
   "outputs": [],
   "source": [
    "import numpy as np\n",
    "import matplotlib.pyplot as plt\n",
    "\n",
    "# autoreload modules when code is run. Otherwise, python will not see recent changes. \n",
    "%load_ext autoreload\n",
    "%autoreload 2\n",
    "\n",
    "# Import your own code\n",
    "from inauguralproject import householdClass"
   ]
  },
  {
   "cell_type": "markdown",
   "metadata": {},
   "source": [
    "# Question 1"
   ]
  },
  {
   "cell_type": "markdown",
   "metadata": {},
   "source": [
    "**Explanation of the code**\n",
    "\n",
    "We start off by defining the different values for alpha and sigma in a list. Then we create empty lists, which are used to store the results when we solve the model, for these different values.\n",
    "\n",
    "We construct a loop. This loop runs and solves the model, for all the different combinations of alpha and sigma. Then we calculate the ratio, HF/HM, and store these results in the list.\n",
    "\n",
    "Finally, the results are plotted with matplotlib in a scatterplot.  Alternatively, one could have used a 3D plot to illustrate the results."
   ]
  },
  {
   "cell_type": "code",
   "execution_count": 2,
   "metadata": {},
   "outputs": [
    {
     "data": {
      "image/png": "[encoded data removed]",
      "text/plain": [
       "<Figure size 640x480 with 2 Axes>"
      ]
     },
     "metadata": {},
     "output_type": "display_data"
    },
    {
     "name": "stdout",
     "output_type": "stream",
     "text": [
      "Alpha / Sigma    0.50    1.00    1.50\n",
      "----------------------------------------\n",
      "    0.25    |   0.55   0.31   0.21\n",
      "    0.50    |   1.00   1.00   1.00\n",
      "    0.75    |   1.83   3.25   4.67\n"
     ]
    }
   ],
   "source": [
    "import warnings\n",
    "warnings.filterwarnings(\"ignore\")\n",
    "\n",
    "# Defining the different values of alpha and sigma\n",
    "alpha_vals = [0.25, 0.5, 0.75]\n",
    "sigma_vals = [0.5, 1, 1.5]\n",
    "\n",
    "# Creating empty lists, to store results\n",
    "ratios = []\n",
    "alphas = []\n",
    "sigmas = []\n",
    "\n",
    "# Creating a loop for the different values of alpha and sigma\n",
    "for alpha in alpha_vals:\n",
    "    for sigma in sigma_vals:\n",
    "        \n",
    "        # Using the model to calculate optimal HF and HM\n",
    "        household = householdClass()\n",
    "        \n",
    "        # Set the desired parameter values\n",
    "        household.par.alpha = alpha\n",
    "        household.par.sigma = sigma\n",
    "        \n",
    "        # Solving for the optimal values\n",
    "        opt = household.solve_discrete()\n",
    "        \n",
    "        # Calculating the ratio, HF/HM\n",
    "        ratio = opt.HF / opt.HM\n",
    "        \n",
    "        # Storing the results in the empty lists\n",
    "        ratios.append(ratio)\n",
    "        alphas.append(alpha)\n",
    "        sigmas.append(sigma)\n",
    "        \n",
    "# Creating a scatterplot of the stored results in the list\n",
    "plt.scatter(alphas, sigmas, c=ratios)\n",
    "plt.colorbar(label='HF/HM ratio')\n",
    "plt.xlabel('Alpha')\n",
    "plt.ylabel('Sigma')\n",
    "plt.show()\n",
    "\n",
    "# Also creating a table\n",
    "def print_table():\n",
    "    #We define an empty text string to enter a title later\n",
    "    text = ''\n",
    "\n",
    "    # Creating the top header of the table. Alpha is values downward and Sigma to the right.\n",
    "    text += f'{\"Alpha - Sigma\":3s}'\n",
    "    for j, sigma in enumerate(sigma_vals):\n",
    "       household.par.sigma = sigma\n",
    "       text += f'{sigma:8.2f}' \n",
    "    text += '\\n' + \"-\"*40 + \"\\n\" # creating a line shift \n",
    "    \n",
    "    # Creating the body of the table\n",
    "    for i, alpha in enumerate(alpha_vals):\n",
    "        household.par.alpha = alpha\n",
    "        if i > 0:\n",
    "            text += '\\n' # creating a line shift\n",
    "        text += f'{alpha:8.2f}    |' # creating the left header\n",
    "        for j, sigma in enumerate(sigma_vals):\n",
    "            household.par.sigma=sigma\n",
    "            opt = household.solve_discrete()\n",
    "            text += f'{opt.HF/opt.HM:7.2f}'\n",
    "    \n",
    "    # Print\n",
    "    print(text)\n",
    "\n",
    "print_table()"
   ]
  },
  {
   "attachments": {},
   "cell_type": "markdown",
   "metadata": {},
   "source": [
    "# Question 2"
   ]
  },
  {
   "attachments": {},
   "cell_type": "markdown",
   "metadata": {},
   "source": [
    "**Explanation of the code**\n",
    "\n",
    "We import our householdClass as h. We then run an instance of the model, for all the different wages in the vector: [0.8,0.9,1.0,1.1,1.2].\n",
    "\n",
    "The results are plotted using matplotlib. On the Y-axis, one is able to observe the log-ratio between HF and HM. On the X-axis, one is able to observe the log-ratio of wF and wM.\n",
    "\n",
    "The color of the dot showcases the different values of wF."
   ]
  },
  {
   "cell_type": "code",
   "execution_count": null,
   "metadata": {},
   "outputs": [],
   "source": [
    "# Using the model to calculate optimal HF and HM\n",
    "h = householdClass()\n",
    "\n",
    "# Empty list to store results\n",
    "ratios = []\n",
    "\n",
    "# Looping over wF values\n",
    "for wF in h.par.wF_vec:\n",
    "    \n",
    "    # Setting value \n",
    "    h.par.wageF = wF\n",
    "\n",
    "    # Solving for discrete optimal choice\n",
    "    opti = h.solve_discrete()\n",
    "\n",
    "    # Creating Ratio \n",
    "    HF_HM = np.log(opti.HF/opti.HM)\n",
    "\n",
    "    # Plotting \n",
    "    plt.plot(np.log(wF/h.par.wageM), HF_HM, 'o', label=f'wF = {wF/h.par.wageM:.2f}', linestyle=\"--\")\n",
    "\n",
    "    # Storing results\n",
    "    ratios.append(HF_HM)\n",
    "\n",
    "# Customizing plot \n",
    "plt.xlabel('log(wF/wM)')\n",
    "plt.ylabel('Log(HF/HM)')\n",
    "plt.legend()\n",
    "\n",
    "# Printing\n",
    "print(ratios)\n",
    "plt.show()"
   ]
  },
  {
   "attachments": {},
   "cell_type": "markdown",
   "metadata": {},
   "source": [
    "# Question 3"
   ]
  },
  {
   "attachments": {},
   "cell_type": "markdown",
   "metadata": {},
   "source": [
    "**Explanation of the code**\n",
    "\n",
    "The approach is similar to Q2.\n",
    "\n",
    "Before plotting the results, we have constructed a continous version of the model in our .py file.\n",
    "\n",
    "Instead of using the solve_discrete() function as we did in Q2, we use solve_continous(). Results are plotted below."
   ]
  },
  {
   "cell_type": "code",
   "execution_count": null,
   "metadata": {},
   "outputs": [],
   "source": [
    "# Using the model to calculate optimal HF and HM\n",
    "h = householdClass()\n",
    "\n",
    "# Empty list\n",
    "ContRatios = []\n",
    "\n",
    "# Looping over wF values\n",
    "for wF in h.par.wF_vec:\n",
    "    \n",
    "    # Setting value \n",
    "    h.par.wageF = wF\n",
    "\n",
    "    # Solving for discrete optimal choice\n",
    "    opti = h.solve_continuous()\n",
    "\n",
    "    # Creating Ratio \n",
    "    HF_HM = np.log(opti.HF/opti.HM)\n",
    "\n",
    "    # Plotting \n",
    "    plt.plot(np.log(wF/h.par.wageM), HF_HM, 'o', label=f'wF = {wF/h.par.wageM:.2f}')\n",
    "\n",
    "    # Storing results\n",
    "    ContRatios.append(HF_HM)\n",
    "\n",
    "# Customizing plot \n",
    "plt.xlabel('log(wF/wM)')\n",
    "plt.ylabel('Log(HF/HM)')\n",
    "plt.legend()\n",
    "\n",
    "# Printing\n",
    "plt.show()"
   ]
  },
  {
   "attachments": {},
   "cell_type": "markdown",
   "metadata": {},
   "source": [
    "# Question 4"
   ]
  },
  {
   "attachments": {},
   "cell_type": "markdown",
   "metadata": {},
   "source": [
    "**Explanation of the code**\n",
    "\n",
    "Text"
   ]
  },
  {
   "cell_type": "code",
   "execution_count": null,
   "metadata": {},
   "outputs": [],
   "source": [
    "model = householdClass()\n",
    "model.run_regression()"
   ]
  }
 ],
 "metadata": {
  "kernelspec": {
   "display_name": "base",
   "language": "python",
   "name": "python3"
  },
  "language_info": {
   "codemirror_mode": {
    "name": "ipython",
    "version": 3
   },
   "file_extension": ".py",
   "mimetype": "text/x-python",
   "name": "python",
   "nbconvert_exporter": "python",
   "pygments_lexer": "ipython3",
   "version": "3.9.13"
  },
  "toc-autonumbering": true,
  "vscode": {
   "interpreter": {
    "hash": "40d3a090f54c6569ab1632332b64b2c03c39dcf918b08424e98f38b5ae0af88f"
   }
  }
 },
 "nbformat": 4,
 "nbformat_minor": 4
}
