{
 "cells": [
  {
   "cell_type": "markdown",
   "metadata": {},
   "source": [
    "# Inaugural Project"
   ]
  },
  {
   "attachments": {},
   "cell_type": "markdown",
   "metadata": {},
   "source": [
    "> **Note the following:** \n",
    "> 1. This is an example of how to structure your **inaugural project**.\n",
    "> 1. Remember the general advice on structuring and commenting your code\n",
    "> 1. The `inauguralproject.py` file includes a function which can be used multiple times in this notebook."
   ]
  },
  {
   "cell_type": "markdown",
   "metadata": {},
   "source": [
    "Imports and set magics:"
   ]
  },
  {
   "cell_type": "code",
   "execution_count": 1,
   "metadata": {},
   "outputs": [],
   "source": [
    "import numpy as np\n",
    "import matplotlib.pyplot as plt\n",
    "\n",
    "# autoreload modules when code is run. Otherwise, python will not see recent changes. \n",
    "%load_ext autoreload\n",
    "%autoreload 2\n",
    "\n",
    "# Import your own code\n",
    "from inauguralproject import householdClass"
   ]
  },
  {
   "cell_type": "markdown",
   "metadata": {},
   "source": [
    "# Question 1"
   ]
  },
  {
   "cell_type": "markdown",
   "metadata": {},
   "source": [
    "**Explanation of the code**\n",
    "\n",
    "We start off by defining the different values for alpha and sigma in a list. Then we create empty lists, which are used to store the results when we solve the model, for these different values.\n",
    "\n",
    "We construct a loop. This loop runs and solves the model, for all the different combinations of alpha and sigma. Then we calculate the ratio, HF/HM, and store these results in the list.\n",
    "\n",
    "Finally, the results are plotted with matplotlib in a scatterplot."
   ]
  },
  {
   "cell_type": "code",
   "execution_count": 2,
   "metadata": {},
   "outputs": [
    {
     "name": "stderr",
     "output_type": "stream",
     "text": [
      "/Users/jacob/Desktop/projects-2023-jakki/inauguralproject/inauguralproject.py:52: RuntimeWarning: divide by zero encountered in power\n",
      "  H = ((1-par.alpha)*HM**(par.sigma-1/par.sigma)+par.alpha*HF**(par.sigma-1/par.sigma))**(par.sigma/par.sigma-1)\n",
      "/Users/jacob/Desktop/projects-2023-jakki/inauguralproject/inauguralproject.py:58: RuntimeWarning: invalid value encountered in reciprocal\n",
      "  utility = np.fmax(Q,1e-8)**(1-par.rho)/(1-par.rho)\n",
      "/var/folders/wy/38pmd0nn3c18f14v5r0jtc2w0000gn/T/ipykernel_98460/360066737.py:25: RuntimeWarning: invalid value encountered in double_scalars\n",
      "  ratio = opt.HF / opt.HM\n"
     ]
    },
    {
     "data": {
      "image/png": "[encoded data removed]",
      "text/plain": [
       "<Figure size 640x480 with 2 Axes>"
      ]
     },
     "metadata": {},
     "output_type": "display_data"
    }
   ],
   "source": [
    "# Defining the different values of alpha and sigma\n",
    "alpha_vals = [0.25, 0.5, 0.75]\n",
    "sigma_vals = [0.5, 1.0, 1.5]\n",
    "\n",
    "# Creating empty lists, to store results\n",
    "ratios = []\n",
    "alphas = []\n",
    "sigmas = []\n",
    "\n",
    "# Creating a loop for the different values of alpha and sigma\n",
    "for alpha in alpha_vals:\n",
    "    for sigma in sigma_vals:\n",
    "        \n",
    "        # Using the model to calculate optimal HF and HM\n",
    "        household = householdClass()\n",
    "        \n",
    "        # Set the desired parameter values\n",
    "        household.par.alpha = alpha\n",
    "        household.par.sigma = sigma\n",
    "        \n",
    "        # Solving for the optimal values\n",
    "        opt = household.solve_discrete()\n",
    "        \n",
    "        # Calculating the ratio, HF/HM\n",
    "        ratio = opt.HF / opt.HM\n",
    "        \n",
    "        # Storing the results in the empty lists\n",
    "        ratios.append(ratio)\n",
    "        alphas.append(alpha)\n",
    "        sigmas.append(sigma)\n",
    "        \n",
    "# Creating a scatterplot of the stored results in the list\n",
    "plt.scatter(alphas, sigmas, c=ratios)\n",
    "plt.colorbar(label='HF/HM ratio')\n",
    "plt.xlabel('Alpha')\n",
    "plt.ylabel('Sigma')\n",
    "plt.show()"
   ]
  },
  {
   "attachments": {},
   "cell_type": "markdown",
   "metadata": {},
   "source": [
    "# Question 2"
   ]
  },
  {
   "attachments": {},
   "cell_type": "markdown",
   "metadata": {},
   "source": [
    "**Explanation of the code**\n",
    "\n",
    "Text"
   ]
  },
  {
   "cell_type": "code",
   "execution_count": 3,
   "metadata": {},
   "outputs": [],
   "source": [
    "# Using the model to calculate optimal HF and HM\n",
    "h = householdClass()\n",
    "\n",
    "#Looping over wF values\n",
    "for wF in h.par.wF_vec:\n",
    "    \n",
    "    #setting value \n",
    "    h.par.wageF = wF\n",
    "\n",
    "    #Solving for discrete optimal choice\n",
    "    opti = h.solve_discrete()\n",
    "\n",
    "    #Creating Ratio \n",
    "    HF_HM = opti.HF/opti.HM\n",
    "\n",
    "    #Plotting \n",
    "    plt.plot(np.log(wF/h.par.wageM), np.log(HF_HM), 'o', label=f'wF/wM = {wF/h.par.wageM:.2f}')\n",
    "\n",
    "#Adding driss \n",
    "plt.xlabel('log(wF/hM)')\n",
    "plt.ylabel('Log(HF/HM)')\n",
    "\n",
    "#Printing\n",
    "plt.show()\n"
   ]
  },
  {
   "cell_type": "markdown",
   "metadata": {},
   "source": [
    "ADD CONCISE CONLUSION."
   ]
  }
 ],
 "metadata": {
  "kernelspec": {
   "display_name": "base",
   "language": "python",
   "name": "python3"
  },
  "language_info": {
   "codemirror_mode": {
    "name": "ipython",
    "version": 3
   },
   "file_extension": ".py",
   "mimetype": "text/x-python",
   "name": "python",
   "nbconvert_exporter": "python",
   "pygments_lexer": "ipython3",
   "version": "3.9.13"
  },
  "toc-autonumbering": true,
  "vscode": {
   "interpreter": {
    "hash": "40d3a090f54c6569ab1632332b64b2c03c39dcf918b08424e98f38b5ae0af88f"
   }
  }
 },
 "nbformat": 4,
 "nbformat_minor": 4
}
