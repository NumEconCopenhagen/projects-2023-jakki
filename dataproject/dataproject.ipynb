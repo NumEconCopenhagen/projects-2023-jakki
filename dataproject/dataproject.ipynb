{
 "cells": [
  {
   "attachments": {},
   "cell_type": "markdown",
   "metadata": {},
   "source": [
    "# AS-AD model with floating exchange regime\n"
   ]
  },
  {
   "attachments": {},
   "cell_type": "markdown",
   "metadata": {},
   "source": [
    "**THE COMPLETE MODEL**\n",
    "\n",
    "<em> Model inpsiration comes from \"Introducing Advanced Macroeconomics - Growth and Business Cycles 2022\"<em>"
   ]
  },
  {
   "attachments": {},
   "cell_type": "markdown",
   "metadata": {},
   "source": [
    "$$\n",
    "\\begin{align*}\n",
    "AS:\\pi_t&=\\pi^e+\\gamma(y_t-\\bar{y})+s_t \\\\\n",
    "AD: \\pi_t&=\\frac{\\beta_1}{\\hat{\\beta_1}}e^r_{t-1}+\\pi^e-\\frac{1}{\\hat{\\beta_1}}(y_t-\\bar{y})+\\frac{1}{\\hat{\\beta_1}}z_t \\\\\n",
    "RERD:  e^r_t&=e^r_{t-1}+\\left(1+\\frac{h}{\\theta}\\right)(\\pi^f-\\pi_t) \\\\\n",
    "\\pi^e &= \\pi^f \\\\\n",
    "\\hat{\\beta_1}&=\\beta_1+\\frac{h\\beta_1}{\\theta}+h\\beta_2 \\\\\n",
    "z_t&=\\delta z_{t-1}+x_t, x_t \\sim N(0,\\sigma_x^2) \\\\\n",
    "s_t&=\\omega s_{t-1}+c_t, c_t \\sim N(0,\\sigma_c^2) \\\\\n",
    "\\end{align*}\n",
    "$$"
   ]
  },
  {
   "attachments": {},
   "cell_type": "markdown",
   "metadata": {},
   "source": [
    "Where $\\pi_t$ is inflation, $\\pi^f$ is inflation abroad, $\\pi^e$ is expectations to inflation, $y_t$ is output, $\\bar{y}$ is structural output, $e^r_t$ is the real exchange, $z_t$ is demand-shock, $s_t$ is supply-shock, $h$ describes at what degree the centralbank wants to minimize deviations in inflation, $\\theta$ is adjustment speed in nominal exchange rate expectation, when the nominal exchange rate devaites from the structural level, $\\bar{e}$.\n",
    "\n",
    "The parameters of the model are:\n",
    "$\\gamma, \\beta_1, \\delta, \\omega, \\sigma^2_x, \\sigma^2_c, \\beta_2, h, \\theta$\n",
    "\n",
    "Following some tideous algebra, the model can be solved to:"
   ]
  },
  {
   "attachments": {},
   "cell_type": "markdown",
   "metadata": {},
   "source": [
    "$$\n",
    "\\begin{align*}\n",
    "\\hat{y}_{t} &= \\frac{1}{1+\\hat{\\beta}_{1}\\gamma}\\left[\\beta_1e^r_{t-1}-\\hat{\\beta}_1\\omega s_{t-1}-\\hat{\\beta}_1 c_t+\\delta z_{t-1}+x_t\\right] \\\\\n",
    "\\hat{\\pi}_{t} &= \\frac{\\gamma}{1+\\hat{\\beta}_{1}\\gamma}\\left[\\beta_1e^r_{t-1}-\\hat{\\beta}_1\\omega s_{t-1}-\\hat{\\beta}_1 c_t+\\delta z_{t-1}+x_t\\right]+\\omega s_{t-1}+c_t \\\\\n",
    "e^r_{t} &= e^r_{t-1}-\\left(1+\\frac{h}{\\theta}\\right)\\hat{\\pi}_t\n",
    "\\end{align*}\n",
    "$$"
   ]
  }
 ],
 "metadata": {
  "kernelspec": {
   "display_name": "base",
   "language": "python",
   "name": "python3"
  },
  "language_info": {
   "codemirror_mode": {
    "name": "ipython",
    "version": 3
   },
   "file_extension": ".py",
   "mimetype": "text/x-python",
   "name": "python",
   "nbconvert_exporter": "python",
   "pygments_lexer": "ipython3",
   "version": "3.9.13"
  },
  "toc-autonumbering": true,
  "vscode": {
   "interpreter": {
    "hash": "40d3a090f54c6569ab1632332b64b2c03c39dcf918b08424e98f38b5ae0af88f"
   }
  }
 },
 "nbformat": 4,
 "nbformat_minor": 4
}
