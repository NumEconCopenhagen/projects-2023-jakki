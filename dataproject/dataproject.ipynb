{
 "cells": [
  {
   "attachments": {},
   "cell_type": "markdown",
   "metadata": {},
   "source": [
    "# AS-AD model with floating exchange regime\n"
   ]
  },
  {
   "attachments": {},
   "cell_type": "markdown",
   "metadata": {},
   "source": [
    "**THE COMPLETE MODEL**\n",
    "\n",
    "In this Data Project, we construct and simulate an AS-AD model with floating exchange regime. We import empirical evidence for Sweden. The empiricial evidence has been imported from Jordá-Schularick-Taylor Macrohistory Database. We observe data from 1994 to 2020, since Sweden adopted a floating exchange regime in 1993.\n",
    "\n",
    "<em> Model inpsiration comes from \"Introducing Advanced Macroeconomics - Growth and Business Cycles 2022\"<em>"
   ]
  },
  {
   "attachments": {},
   "cell_type": "markdown",
   "metadata": {},
   "source": [
    "$$\n",
    "\\begin{align*}\n",
    "AS:\\pi_t&=\\pi^e+\\gamma(y_t-\\bar{y})+s_t \\\\\n",
    "AD: \\pi_t&=\\frac{\\beta_1}{\\hat{\\beta_1}}e^r_{t-1}+\\pi^e-\\frac{1}{\\hat{\\beta_1}}(y_t-\\bar{y})+\\frac{1}{\\hat{\\beta_1}}z_t \\\\\n",
    "RERD:  e^r_t&=e^r_{t-1}+\\left(1+\\frac{h}{\\theta}\\right)(\\pi^f-\\pi_t) \\\\\n",
    "\\pi^e &= \\pi^f \\\\\n",
    "\\hat{\\beta_1}&=\\beta_1+\\frac{h\\beta_1}{\\theta}+h\\beta_2 \\\\\n",
    "z_t&=\\delta z_{t-1}+x_t, x_t \\sim N(0,\\sigma_x^2) \\\\\n",
    "s_t&=\\omega s_{t-1}+c_t, c_t \\sim N(0,\\sigma_c^2) \\\\\n",
    "\\end{align*}\n",
    "$$"
   ]
  },
  {
   "attachments": {},
   "cell_type": "markdown",
   "metadata": {},
   "source": [
    "Where $\\pi_t$ is inflation, $\\pi^f$ is inflation abroad, $\\pi^e$ is expectations to inflation, $y_t$ is output, $\\bar{y}$ is structural output, $e^r_t$ is the real exchange, $z_t$ is demand-shock, $s_t$ is supply-shock, $h$ describes at what degree the centralbank wants to minimize deviations in inflation, $\\theta$ is adjustment speed in nominal exchange rate expectation, when the nominal exchange rate deviates from the structural level, $\\bar{e}$.\n",
    "\n",
    "Following some tideous algebra, the model can be solved to:"
   ]
  },
  {
   "attachments": {},
   "cell_type": "markdown",
   "metadata": {},
   "source": [
    "$$\n",
    "\\begin{align*}\n",
    "\\hat{y}_{t} &= \\frac{1}{1+\\hat{\\beta}_{1}\\gamma}\\left[\\beta_1e^r_{t-1}-\\hat{\\beta}_1\\omega s_{t-1}-\\hat{\\beta}_1 c_t+\\delta z_{t-1}+x_t\\right] \\\\\n",
    "\\hat{\\pi}_{t} &= \\frac{\\gamma}{1+\\hat{\\beta}_{1}\\gamma}\\left[\\beta_1e^r_{t-1}-\\hat{\\beta}_1\\omega s_{t-1}-\\hat{\\beta}_1 c_t+\\delta z_{t-1}+x_t\\right]+\\omega s_{t-1}+c_t \\\\\n",
    "e^r_{t} &= e^r_{t-1}-\\left(1+\\frac{h}{\\theta}\\right)\\hat{\\pi}_t\n",
    "\\end{align*}\n",
    "$$"
   ]
  },
  {
   "attachments": {},
   "cell_type": "markdown",
   "metadata": {},
   "source": [
    "Where we have used the following definitions of gaps, $\\hat{y_t}=y_t-\\bar{y}$ and $\\hat{\\pi_t}=\\pi_t-\\pi^f$.\n",
    "\n",
    "The parameters of the model are:\n",
    "$\\gamma, \\beta_1, \\delta, \\omega, \\sigma^2_x, \\sigma^2_c, \\beta_2, h, \\theta$.\n",
    "\n",
    "Importing packages:"
   ]
  },
  {
   "cell_type": "code",
   "execution_count": 2,
   "metadata": {},
   "outputs": [
    {
     "name": "stdout",
     "output_type": "stream",
     "text": [
      "The autoreload extension is already loaded. To reload it, use:\n",
      "  %reload_ext autoreload\n"
     ]
    }
   ],
   "source": [
    "%load_ext autoreload\n",
    "%autoreload 2\n",
    "\n",
    "from types import SimpleNamespace\n",
    "import numpy as np\n",
    "from scipy import optimize\n",
    "import pandas as pd\n",
    "\n",
    "import matplotlib.pyplot as plt\n",
    "plt.rcParams.update({\"axes.grid\":True,\"grid.color\":\"black\",\"grid.alpha\":\"0.25\",\"grid.linestyle\":\"--\"})\n",
    "plt.rcParams.update({'font.size': 14})"
   ]
  },
  {
   "attachments": {},
   "cell_type": "markdown",
   "metadata": {},
   "source": [
    "We use the pandas module to import data, and calculate empirical moments:"
   ]
  },
  {
   "cell_type": "code",
   "execution_count": 5,
   "metadata": {},
   "outputs": [
    {
     "name": "stdout",
     "output_type": "stream",
     "text": [
      "                      Year;Outputgap;Inflationsgap\n",
      "1994;-0 02570666;0                           56917\n",
      "1995;-0 013269621;0                        1030303\n",
      "1996;-0 019519662;-0                      14400527\n",
      "1997;-0 019355048;-0                      13412385\n",
      "1998;-0 010022954;-0                      21976285\n",
      "1999;0  005959139;-0                      14071146\n",
      "2000;0  020457053;-0                       7812912\n",
      "2001;0  005749023;0                       10632411\n",
      "2002;-0 000701339;0                        7667984\n",
      "2003;-0 009578759;0                        5362319\n",
      "2004;0  005327334;-0                      15059289\n",
      "2005;0  009954682;-0                      13741765\n",
      "2006;0  033552271;-0                       1554677\n",
      "2007;0  046240392;0                         997365\n",
      "2008;0  019971542;0                       28089592\n",
      "2009;-0 046164425;-0                      23952569\n",
      "2010;-0 006622572;-0                       1554677\n",
      "2011;0  008240427;0                       18208169\n",
      "2012;-0 016291467;-0                       6824769\n",
      "2013;-0 023038562;-0                      20658762\n",
      "2014;-0 015902886;-0                      22635046\n",
      "2015;0  010466913;-0                      20658762\n",
      "2016;0  00930954;-0                        5177866\n",
      "2017;0  013207883;0                        7338603\n",
      "2018;0  012997339;0                        1030303\n",
      "2019;0  015498192;0                        8326746\n",
      "2020;-0 03335207;-0                       12094862\n"
     ]
    }
   ],
   "source": [
    "df = pd.read_csv('EmpiricalData.csv')\n",
    "print(df)"
   ]
  }
 ],
 "metadata": {
  "kernelspec": {
   "display_name": "base",
   "language": "python",
   "name": "python3"
  },
  "language_info": {
   "codemirror_mode": {
    "name": "ipython",
    "version": 3
   },
   "file_extension": ".py",
   "mimetype": "text/x-python",
   "name": "python",
   "nbconvert_exporter": "python",
   "pygments_lexer": "ipython3",
   "version": "3.9.13"
  },
  "toc-autonumbering": true,
  "vscode": {
   "interpreter": {
    "hash": "40d3a090f54c6569ab1632332b64b2c03c39dcf918b08424e98f38b5ae0af88f"
   }
  }
 },
 "nbformat": 4,
 "nbformat_minor": 4
}
